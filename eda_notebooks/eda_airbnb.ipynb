{
 "cells": [
  {
   "cell_type": "markdown",
   "metadata": {},
   "source": [
    "# Exploratory Data Analysis of Istanbul Airbnb Data"
   ]
  },
  {
   "cell_type": "markdown",
   "metadata": {},
   "source": [
    "## Import Required Packages"
   ]
  },
  {
   "cell_type": "code",
   "execution_count": 1,
   "metadata": {},
   "outputs": [],
   "source": [
    "from pathlib import Path\n",
    "import numpy as np\n",
    "import pandas as pd\n",
    "import matplotlib as plt\n",
    "import geopandas as gpd"
   ]
  },
  {
   "cell_type": "markdown",
   "metadata": {},
   "source": [
    "## Load Data"
   ]
  },
  {
   "cell_type": "code",
   "execution_count": 2,
   "metadata": {},
   "outputs": [],
   "source": [
    "import_fp = Path(\"../data/processed/istanbul_airbnb_processed.csv\")\n",
    "airbnb_df = pd.read_csv(import_fp, encoding = \"utf-8-sig\")\n",
    "\n",
    "import_fp = Path(\"../data/processed/istanbul_airbnb_processed_shapefile.shp\")\n",
    "airbnb_gdf = gpd.read_file(import_fp)\n",
    "\n",
    "import_fp = Path(\"../data/external/district_income.xlsx\")\n",
    "extra_stats_df = pd.read_excel(import_fp, sheet_name = \"main\")\n",
    "\n",
    "import_fp = Path(\"../data/external/istanbul_districts.shp\")\n",
    "istanbul_districts_gdf = gpd.read_file(import_fp)"
   ]
  },
  {
   "cell_type": "markdown",
   "metadata": {},
   "source": [
    "## Summary Statistics"
   ]
  },
  {
   "cell_type": "markdown",
   "metadata": {},
   "source": [
    "### Get column names"
   ]
  },
  {
   "cell_type": "code",
   "execution_count": 3,
   "metadata": {},
   "outputs": [
    {
     "data": {
      "text/plain": [
       "Index(['listing_id', 'name', 'host_id', 'host_name', 'district_eng',\n",
       "       'latitude', 'longitude', 'room_type', 'price', 'district_tr'],\n",
       "      dtype='object')"
      ]
     },
     "execution_count": 3,
     "metadata": {},
     "output_type": "execute_result"
    }
   ],
   "source": [
    "column_names = airbnb_df.columns\n",
    "column_names"
   ]
  },
  {
   "cell_type": "markdown",
   "metadata": {},
   "source": [
    "### Average Price\n"
   ]
  },
  {
   "cell_type": "code",
   "execution_count": 4,
   "metadata": {},
   "outputs": [
    {
     "data": {
      "text/plain": [
       "379.7643146796431"
      ]
     },
     "execution_count": 4,
     "metadata": {},
     "output_type": "execute_result"
    }
   ],
   "source": [
    "airbnb_avg_price = airbnb_df.loc[:,\"price\"].mean()\n",
    "airbnb_avg_price"
   ]
  },
  {
   "cell_type": "markdown",
   "metadata": {},
   "source": [
    "### Minimum price and Maximum Price"
   ]
  },
  {
   "cell_type": "code",
   "execution_count": 5,
   "metadata": {},
   "outputs": [
    {
     "data": {
      "text/plain": [
       "(18, 67609)"
      ]
     },
     "execution_count": 5,
     "metadata": {},
     "output_type": "execute_result"
    }
   ],
   "source": [
    "airbnb_min_max_price = (airbnb_df.loc[:,\"price\"].min(), airbnb_df.loc[:,\"price\"].max())\n",
    "airbnb_min_max_price "
   ]
  },
  {
   "cell_type": "markdown",
   "metadata": {},
   "source": [
    "### Average rental price per district"
   ]
  },
  {
   "cell_type": "code",
   "execution_count": 6,
   "metadata": {},
   "outputs": [
    {
     "data": {
      "text/plain": [
       "district_eng\n",
       "Catalca          976.000000\n",
       "Silivri          891.542857\n",
       "Beykoz           871.010417\n",
       "Sariyer          818.111455\n",
       "Kucukcekmece     722.720588\n",
       "Buyukcekmece     647.426357\n",
       "Sile             570.688312\n",
       "Fatih            546.076466\n",
       "Bayrampasa       509.833333\n",
       "Basaksehir       507.928962\n",
       "Arnavutkoy       473.600000\n",
       "Adalar           461.964706\n",
       "Bagcilar         416.900826\n",
       "Esenyurt         395.024123\n",
       "Beyoglu          389.503997\n",
       "Sisli            371.013299\n",
       "Zeytinburnu      364.734043\n",
       "Besiktas         339.360078\n",
       "Eyup             337.804054\n",
       "Gaziosmanpasa    322.750000\n",
       "Bakirkoy         318.975510\n",
       "Kartal           306.297101\n",
       "Tuzla            299.301587\n",
       "Sultanbeyli      295.222222\n",
       "Uskudar          278.786687\n",
       "Beylikduzu       277.855422\n",
       "Atasehir         276.695205\n",
       "Gungoren         274.875000\n",
       "Maltepe          244.020690\n",
       "Esenler          238.947368\n",
       "Cekmekoy         236.681818\n",
       "Kagithane        235.238979\n",
       "Avcilar          212.664062\n",
       "Kadikoy          212.068602\n",
       "Umraniye         200.012195\n",
       "Bahcelievler     195.970443\n",
       "Sultangazi       194.470588\n",
       "Sancaktepe       190.500000\n",
       "Pendik           178.687117\n",
       "Name: price, dtype: float64"
      ]
     },
     "execution_count": 6,
     "metadata": {},
     "output_type": "execute_result"
    }
   ],
   "source": [
    "airbnb_grouped_by_district = airbnb_df.groupby(\"district_eng\")\n",
    "airbnb_avg_price_per_district = airbnb_grouped_by_district[\"price\"].mean().sort_values(ascending = False)\n",
    "airbnb_avg_price_per_district"
   ]
  },
  {
   "cell_type": "markdown",
   "metadata": {},
   "source": [
    "### Average rental price per room type "
   ]
  },
  {
   "cell_type": "code",
   "execution_count": 7,
   "metadata": {},
   "outputs": [
    {
     "data": {
      "text/plain": [
       "room_type\n",
       "Entire home/apt    473.327796\n",
       "Private room       303.886878\n",
       "Shared room        163.501859\n",
       "Name: price, dtype: float64"
      ]
     },
     "execution_count": 7,
     "metadata": {},
     "output_type": "execute_result"
    }
   ],
   "source": [
    "airbnb_grouped_by_room_type = airbnb_df.groupby(\"room_type\")\n",
    "airbnb_avg_price_per_room_type = airbnb_grouped_by_room_type[\"price\"].mean().sort_values(ascending = False)\n",
    "airbnb_avg_price_per_room_type"
   ]
  },
  {
   "cell_type": "markdown",
   "metadata": {},
   "source": [
    "## Spatial Distribution"
   ]
  },
  {
   "cell_type": "markdown",
   "metadata": {},
   "source": [
    "### How many rentals in each district?"
   ]
  },
  {
   "cell_type": "code",
   "execution_count": 8,
   "metadata": {},
   "outputs": [
    {
     "data": {
      "text/plain": [
       "Beyoglu          4879\n",
       "Sisli            2707\n",
       "Fatih            2354\n",
       "Kadikoy          1895\n",
       "Besiktas         1533\n",
       "Uskudar           661\n",
       "Esenyurt          456\n",
       "Kagithane         431\n",
       "Sariyer           323\n",
       "Atasehir          292\n",
       "Maltepe           290\n",
       "Bakirkoy          245\n",
       "Bahcelievler      203\n",
       "Basaksehir        183\n",
       "Adalar            170\n",
       "Umraniye          164\n",
       "Pendik            163\n",
       "Eyup              148\n",
       "Kartal            138\n",
       "Kucukcekmece      136\n",
       "Buyukcekmece      129\n",
       "Avcilar           128\n",
       "Bagcilar          121\n",
       "Beykoz             96\n",
       "Zeytinburnu        94\n",
       "Beylikduzu         83\n",
       "Sile               77\n",
       "Gungoren           64\n",
       "Tuzla              63\n",
       "Gaziosmanpasa      60\n",
       "Cekmekoy           44\n",
       "Silivri            35\n",
       "Sancaktepe         34\n",
       "Bayrampasa         24\n",
       "Esenler            19\n",
       "Sultanbeyli        18\n",
       "Sultangazi         17\n",
       "Arnavutkoy         10\n",
       "Catalca             8\n",
       "Name: district_eng, dtype: int64"
      ]
     },
     "execution_count": 8,
     "metadata": {},
     "output_type": "execute_result"
    }
   ],
   "source": [
    "airbnb_listing_count_per_district = airbnb_df.loc[:,\"district_eng\"].value_counts()\n",
    "airbnb_listing_count_per_district"
   ]
  },
  {
   "cell_type": "markdown",
   "metadata": {},
   "source": [
    "## Bivariate Analysis"
   ]
  },
  {
   "cell_type": "code",
   "execution_count": null,
   "metadata": {},
   "outputs": [],
   "source": []
  }
 ],
 "metadata": {
  "kernelspec": {
   "display_name": "Python 3",
   "language": "python",
   "name": "python3"
  },
  "language_info": {
   "codemirror_mode": {
    "name": "ipython",
    "version": 3
   },
   "file_extension": ".py",
   "mimetype": "text/x-python",
   "name": "python",
   "nbconvert_exporter": "python",
   "pygments_lexer": "ipython3",
   "version": "3.7.7"
  }
 },
 "nbformat": 4,
 "nbformat_minor": 4
}
