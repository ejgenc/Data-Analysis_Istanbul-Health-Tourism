{
 "cells": [
  {
   "cell_type": "markdown",
   "metadata": {},
   "source": [
    "# Exploratory Data Analysis of Istanbul Airbnb Data"
   ]
  },
  {
   "cell_type": "markdown",
   "metadata": {},
   "source": [
    "## Import Required Packages"
   ]
  },
  {
   "cell_type": "code",
   "execution_count": 1,
   "metadata": {},
   "outputs": [],
   "source": [
    "from pathlib import Path\n",
    "import numpy as np\n",
    "import pandas as pd\n",
    "import matplotlib.pyplot as plt\n",
    "import seaborn as sns\n",
    "import geopandas as gpd\n",
    "from scipy.stats import iqr, skew, kurtosis"
   ]
  },
  {
   "cell_type": "markdown",
   "metadata": {},
   "source": [
    "## Load Data"
   ]
  },
  {
   "cell_type": "code",
   "execution_count": 2,
   "metadata": {},
   "outputs": [],
   "source": [
    "import_fp = Path(\"../data/processed/istanbul_airbnb_processed.csv\")\n",
    "airbnb_df = pd.read_csv(import_fp, encoding = \"utf-8-sig\")\n",
    "\n",
    "import_fp = Path(\"../data/processed/istanbul_airbnb_processed_shapefile.shp\")\n",
    "airbnb_gdf = gpd.read_file(import_fp)\n",
    "\n",
    "import_fp = Path(\"../data/external/district_income.xlsx\")\n",
    "extra_stats_df = pd.read_excel(import_fp, sheet_name = \"main\")\n",
    "\n",
    "import_fp = Path(\"../data/external/istanbul_districts.shp\")\n",
    "istanbul_districts_gdf = gpd.read_file(import_fp)"
   ]
  },
  {
   "cell_type": "markdown",
   "metadata": {},
   "source": [
    "## Summary Statistics"
   ]
  },
  {
   "cell_type": "markdown",
   "metadata": {},
   "source": [
    "### Get column names"
   ]
  },
  {
   "cell_type": "code",
   "execution_count": 3,
   "metadata": {},
   "outputs": [
    {
     "data": {
      "text/plain": [
       "Index(['listing_id', 'name', 'host_id', 'host_name', 'district_eng',\n",
       "       'latitude', 'longitude', 'room_type', 'price', 'district_tr'],\n",
       "      dtype='object')"
      ]
     },
     "execution_count": 3,
     "metadata": {},
     "output_type": "execute_result"
    }
   ],
   "source": [
    "column_names = airbnb_df.columns\n",
    "column_names"
   ]
  },
  {
   "cell_type": "markdown",
   "metadata": {},
   "source": [
    "### Summary statistics without normalization"
   ]
  },
  {
   "cell_type": "markdown",
   "metadata": {},
   "source": [
    "#### Arithmetic Mean, Median and Mode for Price"
   ]
  },
  {
   "cell_type": "code",
   "execution_count": 4,
   "metadata": {},
   "outputs": [
    {
     "name": "stdout",
     "output_type": "stream",
     "text": [
      "379.7643146796431 212.0 0    103\n",
      "dtype: int64\n"
     ]
    }
   ],
   "source": [
    "airbnb_mean_price = airbnb_df.loc[:,\"price\"].mean()\n",
    "airbnb_median_price = airbnb_df.loc[:,\"price\"].median()\n",
    "airbnb_mode_price = airbnb_df.loc[:,\"price\"].mode()\n",
    "print(airbnb_mean_price, airbnb_median_price, airbnb_mode_price)"
   ]
  },
  {
   "cell_type": "markdown",
   "metadata": {},
   "source": [
    "#### Minimum price and Maximum Price"
   ]
  },
  {
   "cell_type": "code",
   "execution_count": 5,
   "metadata": {},
   "outputs": [
    {
     "data": {
      "text/plain": [
       "(18, 67609)"
      ]
     },
     "execution_count": 5,
     "metadata": {},
     "output_type": "execute_result"
    }
   ],
   "source": [
    "airbnb_min_max_price = (airbnb_df.loc[:,\"price\"].min(), airbnb_df.loc[:,\"price\"].max())\n",
    "airbnb_min_max_price "
   ]
  },
  {
   "cell_type": "markdown",
   "metadata": {},
   "source": [
    "#### Price IQR and SD"
   ]
  },
  {
   "cell_type": "code",
   "execution_count": 6,
   "metadata": {},
   "outputs": [
    {
     "name": "stdout",
     "output_type": "stream",
     "text": [
      "254.0 1286.6569838490234\n"
     ]
    }
   ],
   "source": [
    "airbnb_price_iqr = iqr(airbnb_df.loc[:,\"price\"], axis = 0)\n",
    "airbnb_price_sd = np.std(airbnb_df.loc[:,\"price\"], axis = 0)\n",
    "print(airbnb_price_iqr, airbnb_price_sd)"
   ]
  },
  {
   "cell_type": "markdown",
   "metadata": {},
   "source": [
    "#### Price Skewness and Kurtosis"
   ]
  },
  {
   "cell_type": "code",
   "execution_count": 7,
   "metadata": {},
   "outputs": [
    {
     "name": "stdout",
     "output_type": "stream",
     "text": [
      "33.74442853259717 1530.678285904718\n"
     ]
    }
   ],
   "source": [
    "airbnb_price_skewness = skew(airbnb_df.loc[:,\"price\"], axis = 0)\n",
    "airbnb_price_kurtosis = kurtosis(airbnb_df.loc[:,\"price\"], axis = 0, fisher = False)\n",
    "print(airbnb_price_skewness, airbnb_price_kurtosis)"
   ]
  },
  {
   "cell_type": "markdown",
   "metadata": {},
   "source": [
    "#### Plotting out the distribution"
   ]
  },
  {
   "cell_type": "code",
   "execution_count": 8,
   "metadata": {},
   "outputs": [
    {
     "data": {
      "image/png": "[encoded data removed]",
      "text/plain": [
       "<Figure size 432x288 with 1 Axes>"
      ]
     },
     "metadata": {
      "needs_background": "light"
     },
     "output_type": "display_data"
    }
   ],
   "source": [
    "airbnb_price_distribution = sns.distplot(airbnb_df.loc[:,\"price\"])"
   ]
  },
  {
   "cell_type": "markdown",
   "metadata": {},
   "source": [
    "#### Descriptive statistics per district"
   ]
  },
  {
   "cell_type": "code",
   "execution_count": 11,
   "metadata": {},
   "outputs": [],
   "source": [
    "airbnb_grouped_by_district = airbnb_df.groupby(by = \"district_eng\")"
   ]
  },
  {
   "cell_type": "code",
   "execution_count": 100,
   "metadata": {},
   "outputs": [
    {
     "data": {
      "text/html": [
       "<div>\n",
       "<style scoped>\n",
       "    .dataframe tbody tr th:only-of-type {\n",
       "        vertical-align: middle;\n",
       "    }\n",
       "\n",
       "    .dataframe tbody tr th {\n",
       "        vertical-align: top;\n",
       "    }\n",
       "\n",
       "    .dataframe thead th {\n",
       "        text-align: right;\n",
       "    }\n",
       "</style>\n",
       "<table border=\"1\" class=\"dataframe\">\n",
       "  <thead>\n",
       "    <tr style=\"text-align: right;\">\n",
       "      <th></th>\n",
       "      <th>count</th>\n",
       "      <th>min</th>\n",
       "      <th>max</th>\n",
       "      <th>mean</th>\n",
       "      <th>median</th>\n",
       "      <th>iqr</th>\n",
       "      <th>std</th>\n",
       "      <th>skew</th>\n",
       "      <th>kurtosis</th>\n",
       "    </tr>\n",
       "    <tr>\n",
       "      <th>district_eng</th>\n",
       "      <th></th>\n",
       "      <th></th>\n",
       "      <th></th>\n",
       "      <th></th>\n",
       "      <th></th>\n",
       "      <th></th>\n",
       "      <th></th>\n",
       "      <th></th>\n",
       "      <th></th>\n",
       "    </tr>\n",
       "  </thead>\n",
       "  <tbody>\n",
       "    <tr>\n",
       "      <th>Beyoglu</th>\n",
       "      <td>4879</td>\n",
       "      <td>30</td>\n",
       "      <td>15203</td>\n",
       "      <td>389.503997</td>\n",
       "      <td>260.0</td>\n",
       "      <td>260.00</td>\n",
       "      <td>687.299778</td>\n",
       "      <td>11.250238</td>\n",
       "      <td>173.573305</td>\n",
       "    </tr>\n",
       "    <tr>\n",
       "      <th>Sisli</th>\n",
       "      <td>2707</td>\n",
       "      <td>18</td>\n",
       "      <td>55436</td>\n",
       "      <td>371.013299</td>\n",
       "      <td>206.0</td>\n",
       "      <td>296.00</td>\n",
       "      <td>1317.316796</td>\n",
       "      <td>32.011724</td>\n",
       "      <td>1228.544487</td>\n",
       "    </tr>\n",
       "    <tr>\n",
       "      <th>Fatih</th>\n",
       "      <td>2354</td>\n",
       "      <td>24</td>\n",
       "      <td>67609</td>\n",
       "      <td>546.076466</td>\n",
       "      <td>272.0</td>\n",
       "      <td>285.00</td>\n",
       "      <td>2207.306871</td>\n",
       "      <td>21.901232</td>\n",
       "      <td>589.744701</td>\n",
       "    </tr>\n",
       "    <tr>\n",
       "      <th>Kadikoy</th>\n",
       "      <td>1895</td>\n",
       "      <td>30</td>\n",
       "      <td>11998</td>\n",
       "      <td>212.068602</td>\n",
       "      <td>139.0</td>\n",
       "      <td>157.00</td>\n",
       "      <td>353.646445</td>\n",
       "      <td>21.177662</td>\n",
       "      <td>659.636423</td>\n",
       "    </tr>\n",
       "    <tr>\n",
       "      <th>Besiktas</th>\n",
       "      <td>1533</td>\n",
       "      <td>30</td>\n",
       "      <td>15118</td>\n",
       "      <td>339.360078</td>\n",
       "      <td>206.0</td>\n",
       "      <td>230.00</td>\n",
       "      <td>652.958457</td>\n",
       "      <td>11.884891</td>\n",
       "      <td>208.989222</td>\n",
       "    </tr>\n",
       "    <tr>\n",
       "      <th>Uskudar</th>\n",
       "      <td>661</td>\n",
       "      <td>30</td>\n",
       "      <td>20283</td>\n",
       "      <td>278.786687</td>\n",
       "      <td>127.0</td>\n",
       "      <td>163.00</td>\n",
       "      <td>951.037503</td>\n",
       "      <td>16.080725</td>\n",
       "      <td>309.417709</td>\n",
       "    </tr>\n",
       "    <tr>\n",
       "      <th>Esenyurt</th>\n",
       "      <td>456</td>\n",
       "      <td>30</td>\n",
       "      <td>60473</td>\n",
       "      <td>395.024123</td>\n",
       "      <td>200.0</td>\n",
       "      <td>175.00</td>\n",
       "      <td>2845.160473</td>\n",
       "      <td>20.735103</td>\n",
       "      <td>434.935151</td>\n",
       "    </tr>\n",
       "    <tr>\n",
       "      <th>Kagithane</th>\n",
       "      <td>431</td>\n",
       "      <td>24</td>\n",
       "      <td>4560</td>\n",
       "      <td>235.238979</td>\n",
       "      <td>127.0</td>\n",
       "      <td>223.00</td>\n",
       "      <td>304.125702</td>\n",
       "      <td>7.446658</td>\n",
       "      <td>94.538045</td>\n",
       "    </tr>\n",
       "    <tr>\n",
       "      <th>Sariyer</th>\n",
       "      <td>323</td>\n",
       "      <td>30</td>\n",
       "      <td>18021</td>\n",
       "      <td>818.111455</td>\n",
       "      <td>206.0</td>\n",
       "      <td>496.00</td>\n",
       "      <td>1829.254712</td>\n",
       "      <td>4.877879</td>\n",
       "      <td>31.457327</td>\n",
       "    </tr>\n",
       "    <tr>\n",
       "      <th>Atasehir</th>\n",
       "      <td>292</td>\n",
       "      <td>42</td>\n",
       "      <td>3701</td>\n",
       "      <td>276.695205</td>\n",
       "      <td>187.0</td>\n",
       "      <td>181.00</td>\n",
       "      <td>390.534209</td>\n",
       "      <td>6.175371</td>\n",
       "      <td>46.117702</td>\n",
       "    </tr>\n",
       "    <tr>\n",
       "      <th>Maltepe</th>\n",
       "      <td>290</td>\n",
       "      <td>42</td>\n",
       "      <td>3931</td>\n",
       "      <td>244.020690</td>\n",
       "      <td>139.0</td>\n",
       "      <td>127.00</td>\n",
       "      <td>389.094930</td>\n",
       "      <td>5.577069</td>\n",
       "      <td>39.796309</td>\n",
       "    </tr>\n",
       "    <tr>\n",
       "      <th>Bakirkoy</th>\n",
       "      <td>245</td>\n",
       "      <td>42</td>\n",
       "      <td>3024</td>\n",
       "      <td>318.975510</td>\n",
       "      <td>212.0</td>\n",
       "      <td>236.00</td>\n",
       "      <td>356.021124</td>\n",
       "      <td>4.053390</td>\n",
       "      <td>22.210468</td>\n",
       "    </tr>\n",
       "    <tr>\n",
       "      <th>Bahcelievler</th>\n",
       "      <td>203</td>\n",
       "      <td>36</td>\n",
       "      <td>3042</td>\n",
       "      <td>195.970443</td>\n",
       "      <td>127.0</td>\n",
       "      <td>133.00</td>\n",
       "      <td>259.798016</td>\n",
       "      <td>7.257129</td>\n",
       "      <td>71.047573</td>\n",
       "    </tr>\n",
       "    <tr>\n",
       "      <th>Basaksehir</th>\n",
       "      <td>183</td>\n",
       "      <td>48</td>\n",
       "      <td>2153</td>\n",
       "      <td>507.928962</td>\n",
       "      <td>472.0</td>\n",
       "      <td>312.00</td>\n",
       "      <td>332.340552</td>\n",
       "      <td>1.582572</td>\n",
       "      <td>4.173563</td>\n",
       "    </tr>\n",
       "    <tr>\n",
       "      <th>Adalar</th>\n",
       "      <td>170</td>\n",
       "      <td>60</td>\n",
       "      <td>3380</td>\n",
       "      <td>461.964706</td>\n",
       "      <td>345.0</td>\n",
       "      <td>308.00</td>\n",
       "      <td>452.754226</td>\n",
       "      <td>3.468734</td>\n",
       "      <td>15.847584</td>\n",
       "    </tr>\n",
       "    <tr>\n",
       "      <th>Umraniye</th>\n",
       "      <td>164</td>\n",
       "      <td>42</td>\n",
       "      <td>1089</td>\n",
       "      <td>200.012195</td>\n",
       "      <td>130.0</td>\n",
       "      <td>194.50</td>\n",
       "      <td>170.230230</td>\n",
       "      <td>2.036055</td>\n",
       "      <td>5.430727</td>\n",
       "    </tr>\n",
       "    <tr>\n",
       "      <th>Pendik</th>\n",
       "      <td>163</td>\n",
       "      <td>42</td>\n",
       "      <td>2002</td>\n",
       "      <td>178.687117</td>\n",
       "      <td>151.0</td>\n",
       "      <td>118.00</td>\n",
       "      <td>188.004680</td>\n",
       "      <td>6.426686</td>\n",
       "      <td>54.976183</td>\n",
       "    </tr>\n",
       "    <tr>\n",
       "      <th>Eyup</th>\n",
       "      <td>148</td>\n",
       "      <td>36</td>\n",
       "      <td>3501</td>\n",
       "      <td>337.804054</td>\n",
       "      <td>190.5</td>\n",
       "      <td>211.00</td>\n",
       "      <td>492.082340</td>\n",
       "      <td>3.867925</td>\n",
       "      <td>17.987860</td>\n",
       "    </tr>\n",
       "    <tr>\n",
       "      <th>Kartal</th>\n",
       "      <td>138</td>\n",
       "      <td>36</td>\n",
       "      <td>2999</td>\n",
       "      <td>306.297101</td>\n",
       "      <td>172.0</td>\n",
       "      <td>157.00</td>\n",
       "      <td>459.613014</td>\n",
       "      <td>3.551929</td>\n",
       "      <td>13.618535</td>\n",
       "    </tr>\n",
       "    <tr>\n",
       "      <th>Kucukcekmece</th>\n",
       "      <td>136</td>\n",
       "      <td>36</td>\n",
       "      <td>67609</td>\n",
       "      <td>722.720588</td>\n",
       "      <td>151.0</td>\n",
       "      <td>176.50</td>\n",
       "      <td>5785.806812</td>\n",
       "      <td>11.486060</td>\n",
       "      <td>130.279914</td>\n",
       "    </tr>\n",
       "    <tr>\n",
       "      <th>Buyukcekmece</th>\n",
       "      <td>129</td>\n",
       "      <td>48</td>\n",
       "      <td>7620</td>\n",
       "      <td>647.426357</td>\n",
       "      <td>351.0</td>\n",
       "      <td>569.00</td>\n",
       "      <td>959.256188</td>\n",
       "      <td>4.280317</td>\n",
       "      <td>23.963279</td>\n",
       "    </tr>\n",
       "    <tr>\n",
       "      <th>Avcilar</th>\n",
       "      <td>128</td>\n",
       "      <td>36</td>\n",
       "      <td>1197</td>\n",
       "      <td>212.664062</td>\n",
       "      <td>151.0</td>\n",
       "      <td>205.00</td>\n",
       "      <td>179.696344</td>\n",
       "      <td>2.388766</td>\n",
       "      <td>8.094637</td>\n",
       "    </tr>\n",
       "    <tr>\n",
       "      <th>Bagcilar</th>\n",
       "      <td>121</td>\n",
       "      <td>48</td>\n",
       "      <td>12095</td>\n",
       "      <td>416.900826</td>\n",
       "      <td>272.0</td>\n",
       "      <td>266.00</td>\n",
       "      <td>1103.428773</td>\n",
       "      <td>9.936892</td>\n",
       "      <td>102.451912</td>\n",
       "    </tr>\n",
       "    <tr>\n",
       "      <th>Beykoz</th>\n",
       "      <td>96</td>\n",
       "      <td>42</td>\n",
       "      <td>10002</td>\n",
       "      <td>871.010417</td>\n",
       "      <td>248.0</td>\n",
       "      <td>578.75</td>\n",
       "      <td>1577.044935</td>\n",
       "      <td>3.278426</td>\n",
       "      <td>12.455433</td>\n",
       "    </tr>\n",
       "    <tr>\n",
       "      <th>Zeytinburnu</th>\n",
       "      <td>94</td>\n",
       "      <td>48</td>\n",
       "      <td>6047</td>\n",
       "      <td>364.734043</td>\n",
       "      <td>251.0</td>\n",
       "      <td>266.00</td>\n",
       "      <td>656.356630</td>\n",
       "      <td>7.150308</td>\n",
       "      <td>58.317948</td>\n",
       "    </tr>\n",
       "    <tr>\n",
       "      <th>Beylikduzu</th>\n",
       "      <td>83</td>\n",
       "      <td>48</td>\n",
       "      <td>1349</td>\n",
       "      <td>277.855422</td>\n",
       "      <td>236.0</td>\n",
       "      <td>212.00</td>\n",
       "      <td>227.138624</td>\n",
       "      <td>2.158229</td>\n",
       "      <td>5.962239</td>\n",
       "    </tr>\n",
       "    <tr>\n",
       "      <th>Sile</th>\n",
       "      <td>77</td>\n",
       "      <td>67</td>\n",
       "      <td>3380</td>\n",
       "      <td>570.688312</td>\n",
       "      <td>363.0</td>\n",
       "      <td>423.00</td>\n",
       "      <td>554.093244</td>\n",
       "      <td>2.583385</td>\n",
       "      <td>8.362315</td>\n",
       "    </tr>\n",
       "    <tr>\n",
       "      <th>Gungoren</th>\n",
       "      <td>64</td>\n",
       "      <td>42</td>\n",
       "      <td>1258</td>\n",
       "      <td>274.875000</td>\n",
       "      <td>221.0</td>\n",
       "      <td>221.00</td>\n",
       "      <td>229.584131</td>\n",
       "      <td>2.492758</td>\n",
       "      <td>8.095199</td>\n",
       "    </tr>\n",
       "    <tr>\n",
       "      <th>Tuzla</th>\n",
       "      <td>63</td>\n",
       "      <td>48</td>\n",
       "      <td>1548</td>\n",
       "      <td>299.301587</td>\n",
       "      <td>169.0</td>\n",
       "      <td>275.00</td>\n",
       "      <td>315.141322</td>\n",
       "      <td>2.129113</td>\n",
       "      <td>4.368930</td>\n",
       "    </tr>\n",
       "    <tr>\n",
       "      <th>Gaziosmanpasa</th>\n",
       "      <td>60</td>\n",
       "      <td>60</td>\n",
       "      <td>1089</td>\n",
       "      <td>322.750000</td>\n",
       "      <td>248.0</td>\n",
       "      <td>299.00</td>\n",
       "      <td>264.761397</td>\n",
       "      <td>1.381791</td>\n",
       "      <td>1.242192</td>\n",
       "    </tr>\n",
       "    <tr>\n",
       "      <th>Cekmekoy</th>\n",
       "      <td>44</td>\n",
       "      <td>36</td>\n",
       "      <td>1270</td>\n",
       "      <td>236.681818</td>\n",
       "      <td>142.0</td>\n",
       "      <td>196.00</td>\n",
       "      <td>259.323698</td>\n",
       "      <td>2.404381</td>\n",
       "      <td>5.644844</td>\n",
       "    </tr>\n",
       "    <tr>\n",
       "      <th>Silivri</th>\n",
       "      <td>35</td>\n",
       "      <td>48</td>\n",
       "      <td>9978</td>\n",
       "      <td>891.542857</td>\n",
       "      <td>399.0</td>\n",
       "      <td>631.50</td>\n",
       "      <td>1741.832644</td>\n",
       "      <td>4.388113</td>\n",
       "      <td>19.753715</td>\n",
       "    </tr>\n",
       "    <tr>\n",
       "      <th>Sancaktepe</th>\n",
       "      <td>34</td>\n",
       "      <td>60</td>\n",
       "      <td>599</td>\n",
       "      <td>190.500000</td>\n",
       "      <td>151.0</td>\n",
       "      <td>94.00</td>\n",
       "      <td>120.634246</td>\n",
       "      <td>1.865019</td>\n",
       "      <td>3.139042</td>\n",
       "    </tr>\n",
       "    <tr>\n",
       "      <th>Bayrampasa</th>\n",
       "      <td>24</td>\n",
       "      <td>48</td>\n",
       "      <td>8998</td>\n",
       "      <td>509.833333</td>\n",
       "      <td>124.0</td>\n",
       "      <td>152.00</td>\n",
       "      <td>1810.240211</td>\n",
       "      <td>4.568632</td>\n",
       "      <td>18.933784</td>\n",
       "    </tr>\n",
       "    <tr>\n",
       "      <th>Esenler</th>\n",
       "      <td>19</td>\n",
       "      <td>42</td>\n",
       "      <td>810</td>\n",
       "      <td>238.947368</td>\n",
       "      <td>145.0</td>\n",
       "      <td>272.50</td>\n",
       "      <td>211.083836</td>\n",
       "      <td>1.164756</td>\n",
       "      <td>0.742705</td>\n",
       "    </tr>\n",
       "    <tr>\n",
       "      <th>Sultanbeyli</th>\n",
       "      <td>18</td>\n",
       "      <td>48</td>\n",
       "      <td>2117</td>\n",
       "      <td>295.222222</td>\n",
       "      <td>166.0</td>\n",
       "      <td>163.00</td>\n",
       "      <td>462.078750</td>\n",
       "      <td>3.675822</td>\n",
       "      <td>12.062452</td>\n",
       "    </tr>\n",
       "    <tr>\n",
       "      <th>Sultangazi</th>\n",
       "      <td>17</td>\n",
       "      <td>60</td>\n",
       "      <td>1209</td>\n",
       "      <td>194.470588</td>\n",
       "      <td>133.0</td>\n",
       "      <td>66.00</td>\n",
       "      <td>267.110492</td>\n",
       "      <td>3.489159</td>\n",
       "      <td>10.839028</td>\n",
       "    </tr>\n",
       "    <tr>\n",
       "      <th>Arnavutkoy</th>\n",
       "      <td>10</td>\n",
       "      <td>73</td>\n",
       "      <td>1209</td>\n",
       "      <td>473.600000</td>\n",
       "      <td>308.5</td>\n",
       "      <td>595.75</td>\n",
       "      <td>454.691397</td>\n",
       "      <td>0.653956</td>\n",
       "      <td>-1.057166</td>\n",
       "    </tr>\n",
       "    <tr>\n",
       "      <th>Catalca</th>\n",
       "      <td>8</td>\n",
       "      <td>200</td>\n",
       "      <td>2498</td>\n",
       "      <td>976.000000</td>\n",
       "      <td>798.0</td>\n",
       "      <td>924.00</td>\n",
       "      <td>789.202129</td>\n",
       "      <td>0.813879</td>\n",
       "      <td>-0.401094</td>\n",
       "    </tr>\n",
       "  </tbody>\n",
       "</table>\n",
       "</div>"
      ],
      "text/plain": [
       "               count  min    max        mean  median     iqr          std  \\\n",
       "district_eng                                                                \n",
       "Beyoglu         4879   30  15203  389.503997   260.0  260.00   687.299778   \n",
       "Sisli           2707   18  55436  371.013299   206.0  296.00  1317.316796   \n",
       "Fatih           2354   24  67609  546.076466   272.0  285.00  2207.306871   \n",
       "Kadikoy         1895   30  11998  212.068602   139.0  157.00   353.646445   \n",
       "Besiktas        1533   30  15118  339.360078   206.0  230.00   652.958457   \n",
       "Uskudar          661   30  20283  278.786687   127.0  163.00   951.037503   \n",
       "Esenyurt         456   30  60473  395.024123   200.0  175.00  2845.160473   \n",
       "Kagithane        431   24   4560  235.238979   127.0  223.00   304.125702   \n",
       "Sariyer          323   30  18021  818.111455   206.0  496.00  1829.254712   \n",
       "Atasehir         292   42   3701  276.695205   187.0  181.00   390.534209   \n",
       "Maltepe          290   42   3931  244.020690   139.0  127.00   389.094930   \n",
       "Bakirkoy         245   42   3024  318.975510   212.0  236.00   356.021124   \n",
       "Bahcelievler     203   36   3042  195.970443   127.0  133.00   259.798016   \n",
       "Basaksehir       183   48   2153  507.928962   472.0  312.00   332.340552   \n",
       "Adalar           170   60   3380  461.964706   345.0  308.00   452.754226   \n",
       "Umraniye         164   42   1089  200.012195   130.0  194.50   170.230230   \n",
       "Pendik           163   42   2002  178.687117   151.0  118.00   188.004680   \n",
       "Eyup             148   36   3501  337.804054   190.5  211.00   492.082340   \n",
       "Kartal           138   36   2999  306.297101   172.0  157.00   459.613014   \n",
       "Kucukcekmece     136   36  67609  722.720588   151.0  176.50  5785.806812   \n",
       "Buyukcekmece     129   48   7620  647.426357   351.0  569.00   959.256188   \n",
       "Avcilar          128   36   1197  212.664062   151.0  205.00   179.696344   \n",
       "Bagcilar         121   48  12095  416.900826   272.0  266.00  1103.428773   \n",
       "Beykoz            96   42  10002  871.010417   248.0  578.75  1577.044935   \n",
       "Zeytinburnu       94   48   6047  364.734043   251.0  266.00   656.356630   \n",
       "Beylikduzu        83   48   1349  277.855422   236.0  212.00   227.138624   \n",
       "Sile              77   67   3380  570.688312   363.0  423.00   554.093244   \n",
       "Gungoren          64   42   1258  274.875000   221.0  221.00   229.584131   \n",
       "Tuzla             63   48   1548  299.301587   169.0  275.00   315.141322   \n",
       "Gaziosmanpasa     60   60   1089  322.750000   248.0  299.00   264.761397   \n",
       "Cekmekoy          44   36   1270  236.681818   142.0  196.00   259.323698   \n",
       "Silivri           35   48   9978  891.542857   399.0  631.50  1741.832644   \n",
       "Sancaktepe        34   60    599  190.500000   151.0   94.00   120.634246   \n",
       "Bayrampasa        24   48   8998  509.833333   124.0  152.00  1810.240211   \n",
       "Esenler           19   42    810  238.947368   145.0  272.50   211.083836   \n",
       "Sultanbeyli       18   48   2117  295.222222   166.0  163.00   462.078750   \n",
       "Sultangazi        17   60   1209  194.470588   133.0   66.00   267.110492   \n",
       "Arnavutkoy        10   73   1209  473.600000   308.5  595.75   454.691397   \n",
       "Catalca            8  200   2498  976.000000   798.0  924.00   789.202129   \n",
       "\n",
       "                    skew     kurtosis  \n",
       "district_eng                           \n",
       "Beyoglu        11.250238   173.573305  \n",
       "Sisli          32.011724  1228.544487  \n",
       "Fatih          21.901232   589.744701  \n",
       "Kadikoy        21.177662   659.636423  \n",
       "Besiktas       11.884891   208.989222  \n",
       "Uskudar        16.080725   309.417709  \n",
       "Esenyurt       20.735103   434.935151  \n",
       "Kagithane       7.446658    94.538045  \n",
       "Sariyer         4.877879    31.457327  \n",
       "Atasehir        6.175371    46.117702  \n",
       "Maltepe         5.577069    39.796309  \n",
       "Bakirkoy        4.053390    22.210468  \n",
       "Bahcelievler    7.257129    71.047573  \n",
       "Basaksehir      1.582572     4.173563  \n",
       "Adalar          3.468734    15.847584  \n",
       "Umraniye        2.036055     5.430727  \n",
       "Pendik          6.426686    54.976183  \n",
       "Eyup            3.867925    17.987860  \n",
       "Kartal          3.551929    13.618535  \n",
       "Kucukcekmece   11.486060   130.279914  \n",
       "Buyukcekmece    4.280317    23.963279  \n",
       "Avcilar         2.388766     8.094637  \n",
       "Bagcilar        9.936892   102.451912  \n",
       "Beykoz          3.278426    12.455433  \n",
       "Zeytinburnu     7.150308    58.317948  \n",
       "Beylikduzu      2.158229     5.962239  \n",
       "Sile            2.583385     8.362315  \n",
       "Gungoren        2.492758     8.095199  \n",
       "Tuzla           2.129113     4.368930  \n",
       "Gaziosmanpasa   1.381791     1.242192  \n",
       "Cekmekoy        2.404381     5.644844  \n",
       "Silivri         4.388113    19.753715  \n",
       "Sancaktepe      1.865019     3.139042  \n",
       "Bayrampasa      4.568632    18.933784  \n",
       "Esenler         1.164756     0.742705  \n",
       "Sultanbeyli     3.675822    12.062452  \n",
       "Sultangazi      3.489159    10.839028  \n",
       "Arnavutkoy      0.653956    -1.057166  \n",
       "Catalca         0.813879    -0.401094  "
      ]
     },
     "execution_count": 100,
     "metadata": {},
     "output_type": "execute_result"
    }
   ],
   "source": [
    "airbnb_description_per_district = airbnb_grouped_by_district[\"price\"].agg([\"count\",\"min\", \"max\",\"mean\",\"median\",iqr,\"std\", skew, kurtosis]).sort_values(by = \"count\",\n",
    "                                                                                                    ascending = False)\n",
    "airbnb_description_per_district "
   ]
  },
  {
   "cell_type": "code",
   "execution_count": 66,
   "metadata": {},
   "outputs": [],
   "source": [
    "airbnb_districts_prices = airbnb_grouped_by_district[\"price\"]"
   ]
  },
  {
   "cell_type": "markdown",
   "metadata": {},
   "source": [
    "#### Distribution of price per district"
   ]
  },
  {
   "cell_type": "code",
   "execution_count": 97,
   "metadata": {},
   "outputs": [
    {
     "data": {
      "image/png": "[encoded data removed]",
      "text/plain": [
       "<Figure size 1800x1800 with 39 Axes>"
      ]
     },
     "metadata": {
      "needs_background": "light"
     },
     "output_type": "display_data"
    }
   ],
   "source": [
    "i = 1\n",
    "fig = plt.figure(figsize = (25.00, 25.00))\n",
    "for group in airbnb_districts_prices.groups:\n",
    "    ax = fig.add_subplot(13, 3, i)\n",
    "    ax.hist(airbnb_districts_prices.get_group(group),\n",
    "           bins = 30)\n",
    "    \n",
    "    ax.spines['right'].set_visible(False)\n",
    "    ax.spines['top'].set_visible(False)\n",
    "    \n",
    "    ax.set_xlim(0)\n",
    "    \n",
    "    ax.set_title(group)\n",
    "    \n",
    "    fig.tight_layout()\n",
    "    \n",
    "    i += 1\n",
    "    "
   ]
  },
  {
   "cell_type": "markdown",
   "metadata": {},
   "source": [
    "#### Average rental price per room type "
   ]
  },
  {
   "cell_type": "code",
   "execution_count": 14,
   "metadata": {
    "scrolled": true
   },
   "outputs": [
    {
     "data": {
      "text/plain": [
       "room_type\n",
       "Entire home/apt    473.327796\n",
       "Private room       303.886878\n",
       "Shared room        163.501859\n",
       "Name: price, dtype: float64"
      ]
     },
     "execution_count": 14,
     "metadata": {},
     "output_type": "execute_result"
    }
   ],
   "source": [
    "airbnb_grouped_by_room_type = airbnb_df.groupby(\"room_type\")\n",
    "airbnb_avg_price_per_room_type = airbnb_grouped_by_room_type[\"price\"].mean().sort_values(ascending = False)\n",
    "airbnb_avg_price_per_room_type"
   ]
  },
  {
   "cell_type": "markdown",
   "metadata": {},
   "source": [
    "### Summary statistics for normalization - +- 1.5 IQR as outliers"
   ]
  },
  {
   "cell_type": "code",
   "execution_count": 15,
   "metadata": {},
   "outputs": [],
   "source": [
    "price_iqr = iqr(airbnb_df.loc[:,\"price\"], axis = 0)\n",
    "\n",
    "#Calculate q3 and q1\n",
    "q1 = airbnb_df[\"price\"].quantile(0.25)\n",
    "q3 = airbnb_df[\"price\"].quantile(0.75)"
   ]
  },
  {
   "cell_type": "code",
   "execution_count": 16,
   "metadata": {},
   "outputs": [
    {
     "name": "stdout",
     "output_type": "stream",
     "text": [
      "254.0\n"
     ]
    }
   ],
   "source": [
    "#Let's see what the IQR is\n",
    "print(price_iqr)"
   ]
  },
  {
   "cell_type": "code",
   "execution_count": 17,
   "metadata": {},
   "outputs": [],
   "source": [
    "#Create min and max mask for +/* 1.5 IQR\n",
    "min_mask = airbnb_df.loc[:,\"price\"] >= q1 - (1.5 * price_iqr)\n",
    "max_mask = airbnb_df.loc[:,\"price\"] <= q3 + (1.5 * price_iqr)\n",
    "#Combine masks\n",
    "combined_mask = min_mask & max_mask\n",
    "#Create subset\n",
    "airbnb_within_iqr_1point5 = airbnb_df.loc[combined_mask]"
   ]
  },
  {
   "cell_type": "markdown",
   "metadata": {},
   "source": [
    "#### Average price"
   ]
  },
  {
   "cell_type": "code",
   "execution_count": 18,
   "metadata": {},
   "outputs": [
    {
     "data": {
      "text/plain": [
       "244.4016641452345"
      ]
     },
     "execution_count": 18,
     "metadata": {},
     "output_type": "execute_result"
    }
   ],
   "source": [
    "airbnb_avg_price = airbnb_within_iqr_1point5.loc[:,\"price\"].mean()\n",
    "airbnb_avg_price"
   ]
  },
  {
   "cell_type": "markdown",
   "metadata": {},
   "source": [
    "#### Arithmetic Mean, Median and Mode for Price"
   ]
  },
  {
   "cell_type": "code",
   "execution_count": 101,
   "metadata": {},
   "outputs": [
    {
     "name": "stdout",
     "output_type": "stream",
     "text": [
      "244.4016641452345 200.0 0    103\n",
      "dtype: int64\n"
     ]
    }
   ],
   "source": [
    "airbnb_mean_price = airbnb_within_iqr_1point5.loc[:,\"price\"].mean()\n",
    "airbnb_median_price = airbnb_within_iqr_1point5.loc[:,\"price\"].median()\n",
    "airbnb_mode_price = airbnb_within_iqr_1point5.loc[:,\"price\"].mode()\n",
    "print(airbnb_mean_price, airbnb_median_price, airbnb_mode_price)"
   ]
  },
  {
   "cell_type": "markdown",
   "metadata": {},
   "source": [
    "#### Minimum price and Maximum Price"
   ]
  },
  {
   "cell_type": "code",
   "execution_count": 104,
   "metadata": {},
   "outputs": [
    {
     "data": {
      "text/plain": [
       "(18, 756)"
      ]
     },
     "execution_count": 104,
     "metadata": {},
     "output_type": "execute_result"
    }
   ],
   "source": [
    "airbnb_min_max_price = (airbnb_within_iqr_1point5.loc[:,\"price\"].min(),\n",
    "                        airbnb_within_iqr_1point5.loc[:,\"price\"].max())\n",
    "airbnb_min_max_price "
   ]
  },
  {
   "cell_type": "markdown",
   "metadata": {},
   "source": [
    "#### Price IQR and SD"
   ]
  },
  {
   "cell_type": "code",
   "execution_count": 105,
   "metadata": {},
   "outputs": [
    {
     "name": "stdout",
     "output_type": "stream",
     "text": [
      "224.0 165.55718692694484\n"
     ]
    }
   ],
   "source": [
    "airbnb_price_iqr = iqr(airbnb_within_iqr_1point5.loc[:,\"price\"], axis = 0)\n",
    "airbnb_price_sd = np.std(airbnb_within_iqr_1point5.loc[:,\"price\"], axis = 0)\n",
    "print(airbnb_price_iqr, airbnb_price_sd)"
   ]
  },
  {
   "cell_type": "markdown",
   "metadata": {},
   "source": [
    "#### Price Skewness and Kurtosis"
   ]
  },
  {
   "cell_type": "code",
   "execution_count": 106,
   "metadata": {},
   "outputs": [
    {
     "name": "stdout",
     "output_type": "stream",
     "text": [
      "1.0604385922025314 3.4206375124169592\n"
     ]
    }
   ],
   "source": [
    "airbnb_price_skewness = skew(airbnb_within_iqr_1point5.loc[:,\"price\"], axis = 0)\n",
    "airbnb_price_kurtosis = kurtosis(airbnb_within_iqr_1point5.loc[:,\"price\"], axis = 0, fisher = False)\n",
    "print(airbnb_price_skewness, airbnb_price_kurtosis)"
   ]
  },
  {
   "cell_type": "code",
   "execution_count": 108,
   "metadata": {},
   "outputs": [
    {
     "data": {
      "image/png": "[encoded data removed]",
      "text/plain": [
       "<Figure size 432x288 with 1 Axes>"
      ]
     },
     "metadata": {
      "needs_background": "light"
     },
     "output_type": "display_data"
    }
   ],
   "source": [
    "airbnb_price_distribution = sns.distplot(airbnb_within_iqr_1point5.loc[:,\"price\"])"
   ]
  },
  {
   "cell_type": "markdown",
   "metadata": {},
   "source": [
    "## Spatial Distribution"
   ]
  },
  {
   "cell_type": "markdown",
   "metadata": {},
   "source": [
    "### How many rentals in each district?"
   ]
  },
  {
   "cell_type": "code",
   "execution_count": 20,
   "metadata": {},
   "outputs": [
    {
     "data": {
      "text/plain": [
       "Beyoglu          4879\n",
       "Sisli            2707\n",
       "Fatih            2354\n",
       "Kadikoy          1895\n",
       "Besiktas         1533\n",
       "Uskudar           661\n",
       "Esenyurt          456\n",
       "Kagithane         431\n",
       "Sariyer           323\n",
       "Atasehir          292\n",
       "Maltepe           290\n",
       "Bakirkoy          245\n",
       "Bahcelievler      203\n",
       "Basaksehir        183\n",
       "Adalar            170\n",
       "Umraniye          164\n",
       "Pendik            163\n",
       "Eyup              148\n",
       "Kartal            138\n",
       "Kucukcekmece      136\n",
       "Buyukcekmece      129\n",
       "Avcilar           128\n",
       "Bagcilar          121\n",
       "Beykoz             96\n",
       "Zeytinburnu        94\n",
       "Beylikduzu         83\n",
       "Sile               77\n",
       "Gungoren           64\n",
       "Tuzla              63\n",
       "Gaziosmanpasa      60\n",
       "Cekmekoy           44\n",
       "Silivri            35\n",
       "Sancaktepe         34\n",
       "Bayrampasa         24\n",
       "Esenler            19\n",
       "Sultanbeyli        18\n",
       "Sultangazi         17\n",
       "Arnavutkoy         10\n",
       "Catalca             8\n",
       "Name: district_eng, dtype: int64"
      ]
     },
     "execution_count": 20,
     "metadata": {},
     "output_type": "execute_result"
    }
   ],
   "source": [
    "airbnb_listing_count_per_district = airbnb_df.loc[:,\"district_eng\"].value_counts()\n",
    "airbnb_listing_count_per_district"
   ]
  },
  {
   "cell_type": "markdown",
   "metadata": {},
   "source": [
    "## Bivariate Analysis"
   ]
  }
 ],
 "metadata": {
  "kernelspec": {
   "display_name": "Python 3",
   "language": "python",
   "name": "python3"
  },
  "language_info": {
   "codemirror_mode": {
    "name": "ipython",
    "version": 3
   },
   "file_extension": ".py",
   "mimetype": "text/x-python",
   "name": "python",
   "nbconvert_exporter": "python",
   "pygments_lexer": "ipython3",
   "version": "3.7.7"
  }
 },
 "nbformat": 4,
 "nbformat_minor": 4
}
